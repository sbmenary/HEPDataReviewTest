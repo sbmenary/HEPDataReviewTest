{
 "cells": [
  {
   "cell_type": "markdown",
   "metadata": {},
   "source": [
    "## HEPData review: Measurement of the cross section for inclusive isolated-photon production in pp collisions at $\\sqrt{s}=13$ TeV using the ATLAS detector"
   ]
  },
  {
   "cell_type": "markdown",
   "metadata": {},
   "source": [
    "### Reviewer: S. Menary, University of Manchester (stephen.burns.menary@cern.ch)"
   ]
  },
  {
   "cell_type": "markdown",
   "metadata": {},
   "source": [
    "### HEPData record: https://www.hepdata.net/record/79798"
   ]
  },
  {
   "cell_type": "code",
   "execution_count": 1,
   "metadata": {},
   "outputs": [
    {
     "name": "stdout",
     "output_type": "stream",
     "text": [
      "python version is: 3.7.3 (default, Apr 17 2019, 15:19:19) \n",
      "[Clang 10.0.0 (clang-1000.11.45.5)]\n",
      "\n",
      "review_tools version is: 1.0.0\n",
      "\n",
      "ipywidgets version is: 7.4.2\n",
      "\n",
      "IPython version is: 7.4.0\n"
     ]
    }
   ],
   "source": [
    "#  ============================================================================\n",
    "#  Here we print package versions (for reproducibility)\n",
    "#  Import everything at the top of the notebook so the dependencies are clear\n",
    "#  ============================================================================\n",
    "\n",
    "\n",
    "from review_tools           import helpers\n",
    "from review_tools.CheckList import CheckList\n",
    "from IPython.display        import display\n",
    "\n",
    "helpers.print_versions(\"IPython\", \"ipywidgets\")"
   ]
  },
  {
   "cell_type": "markdown",
   "metadata": {},
   "source": [
    "### Step 1: standard checklist"
   ]
  },
  {
   "cell_type": "markdown",
   "metadata": {},
   "source": [
    "First let's make a checklist of things we want to validate:"
   ]
  },
  {
   "cell_type": "code",
   "execution_count": 2,
   "metadata": {},
   "outputs": [
    {
     "data": {
      "application/vnd.jupyter.widget-view+json": {
       "model_id": "e1ca9860eb9941c69886f987e6e44f1c",
       "version_major": 2,
       "version_minor": 0
      },
      "text/plain": [
       "CheckList(children=(CheckListRow(children=(HBox(children=(Output(), CheckListButton(description='Failed', styl…"
      ]
     },
     "metadata": {},
     "output_type": "display_data"
    }
   ],
   "source": [
    "#  ============================================================================\n",
    "#  Create checklist instance\n",
    "#     (can be modified by clicking or using code commands)\n",
    "#  ============================================================================\n",
    "\n",
    "\n",
    "c = CheckList(\"Journal link\", \n",
    "              \"INSPIRE link\", \n",
    "              \"Informative abstract\", \n",
    "              \"Stat uncertainties\", \n",
    "              \"Syst uncertainties\", \n",
    "              \"Sufficient syst breakdown\", \n",
    "              num_tables=4)\n",
    "c[\"Journal link\"].passed()\n",
    "c[\"INSPIRE link\"].passed()\n",
    "c[\"Informative abstract\"].attention(\"arbitrary comment\")\n",
    "\n",
    "display(c)"
   ]
  },
  {
   "cell_type": "code",
   "execution_count": null,
   "metadata": {},
   "outputs": [],
   "source": []
  },
  {
   "cell_type": "code",
   "execution_count": null,
   "metadata": {},
   "outputs": [],
   "source": []
  },
  {
   "cell_type": "code",
   "execution_count": null,
   "metadata": {},
   "outputs": [],
   "source": []
  },
  {
   "cell_type": "code",
   "execution_count": null,
   "metadata": {},
   "outputs": [],
   "source": []
  },
  {
   "cell_type": "code",
   "execution_count": 3,
   "metadata": {},
   "outputs": [],
   "source": [
    "import ipywidgets as wid"
   ]
  },
  {
   "cell_type": "code",
   "execution_count": 4,
   "metadata": {},
   "outputs": [
    {
     "data": {
      "application/vnd.jupyter.widget-view+json": {
       "model_id": "f898d68423af49668a31b8f992a142ba",
       "version_major": 2,
       "version_minor": 0
      },
      "text/plain": [
       "Text(value='hello')"
      ]
     },
     "metadata": {},
     "output_type": "display_data"
    }
   ],
   "source": [
    "w = wid.Text()\n",
    "w.keys\n",
    "w.value = \"hello\"\n",
    "w"
   ]
  },
  {
   "cell_type": "code",
   "execution_count": null,
   "metadata": {},
   "outputs": [],
   "source": []
  },
  {
   "cell_type": "code",
   "execution_count": null,
   "metadata": {},
   "outputs": [],
   "source": []
  },
  {
   "cell_type": "code",
   "execution_count": null,
   "metadata": {},
   "outputs": [],
   "source": []
  },
  {
   "cell_type": "code",
   "execution_count": null,
   "metadata": {},
   "outputs": [],
   "source": []
  },
  {
   "cell_type": "code",
   "execution_count": null,
   "metadata": {},
   "outputs": [],
   "source": []
  },
  {
   "cell_type": "code",
   "execution_count": null,
   "metadata": {},
   "outputs": [],
   "source": []
  },
  {
   "cell_type": "code",
   "execution_count": null,
   "metadata": {},
   "outputs": [],
   "source": []
  },
  {
   "cell_type": "code",
   "execution_count": null,
   "metadata": {},
   "outputs": [],
   "source": []
  }
 ],
 "metadata": {
  "kernelspec": {
   "display_name": "Python 3",
   "language": "python",
   "name": "python3"
  },
  "language_info": {
   "codemirror_mode": {
    "name": "ipython",
    "version": 3
   },
   "file_extension": ".py",
   "mimetype": "text/x-python",
   "name": "python",
   "nbconvert_exporter": "python",
   "pygments_lexer": "ipython3",
   "version": "3.7.3"
  },
  "widgets": {
   "application/vnd.jupyter.widget-state+json": {
    "state": {
     "0005830bfd164e3b845d02c94d68c355": {
      "model_module": "@jupyter-widgets/controls",
      "model_module_version": "1.4.0",
      "model_name": "ButtonModel",
      "state": {
       "description": "Untested",
       "layout": "IPY_MODEL_032ad964d8a34ed988cec5234be998ae",
       "style": "IPY_MODEL_ef835030738148a2b6a624e2aa5fb0b5"
      }
     },
     "01e6c1ff242c456e9dfd74a9690e86e5": {
      "model_module": "@jupyter-widgets/controls",
      "model_module_version": "1.4.0",
      "model_name": "HBoxModel",
      "state": {
       "children": [
        "IPY_MODEL_28fda7065533483a9443b42dd3b3de71",
        "IPY_MODEL_ff96b86c82bc4c6284061f14ede886f6",
        "IPY_MODEL_f14c97c378934ad69cd45a7f4b305a94",
        "IPY_MODEL_94195b38552a4d69b7d3e796fc16ef33",
        "IPY_MODEL_c1bc05fe1b974c609048802bc8ef9c94",
        "IPY_MODEL_2c4375af2f454f4b869fc90c24e08e34"
       ],
       "layout": "IPY_MODEL_aaa0a07cacaf4281b2d135a59e32adcb"
      }
     },
     "02c1375c3be746ea992678a87cd6981e": {
      "model_module": "@jupyter-widgets/controls",
      "model_module_version": "1.4.0",
      "model_name": "ButtonStyleModel",
      "state": {}
     },
     "02eb676e3ca54e6c8b7a35889b0c6fa2": {
      "model_module": "@jupyter-widgets/base",
      "model_module_version": "1.1.0",
      "model_name": "LayoutModel",
      "state": {}
     },
     "032ad964d8a34ed988cec5234be998ae": {
      "model_module": "@jupyter-widgets/base",
      "model_module_version": "1.1.0",
      "model_name": "LayoutModel",
      "state": {}
     },
     "03a5d8406d204bc9885916d81e0fc953": {
      "model_module": "@jupyter-widgets/controls",
      "model_module_version": "1.4.0",
      "model_name": "ButtonModel",
      "state": {
       "description": "Attention",
       "layout": "IPY_MODEL_8e0beb31a20e4459858c34d579438317",
       "style": "IPY_MODEL_619e788dae864e168a7d4624d5531cf1"
      }
     },
     "0663fb968bc146e0b203950d459316db": {
      "model_module": "@jupyter-widgets/output",
      "model_module_version": "1.0.0",
      "model_name": "OutputModel",
      "state": {
       "layout": "IPY_MODEL_c3e50b2285b1447081602e5c07a7b180",
       "outputs": [
        {
         "name": "stdout",
         "output_type": "stream",
         "text": "•  Sufficient syst breakdown     \n"
        }
       ]
      }
     },
     "076d9f9f976244c6bb84beb109697449": {
      "model_module": "@jupyter-widgets/controls",
      "model_module_version": "1.4.0",
      "model_name": "DescriptionStyleModel",
      "state": {
       "description_width": ""
      }
     },
     "08a381f1d2864aadbc75680090412b64": {
      "model_module": "@jupyter-widgets/base",
      "model_module_version": "1.1.0",
      "model_name": "LayoutModel",
      "state": {}
     },
     "09076941420749179b70fd8ec8ab6dbb": {
      "model_module": "@jupyter-widgets/output",
      "model_module_version": "1.0.0",
      "model_name": "OutputModel",
      "state": {
       "layout": "IPY_MODEL_632c9d2b0ebe4dfdbcccc67b91daf487",
       "outputs": [
        {
         "name": "stdout",
         "output_type": "stream",
         "text": "•  INSPIRE link                  \n"
        }
       ]
      }
     },
     "09bcfa6e5b4b40048e0ca3af1c0bd473": {
      "model_module": "@jupyter-widgets/base",
      "model_module_version": "1.1.0",
      "model_name": "LayoutModel",
      "state": {}
     },
     "09c72b66364f47acb57a4ef79bfa223f": {
      "model_module": "@jupyter-widgets/base",
      "model_module_version": "1.1.0",
      "model_name": "LayoutModel",
      "state": {}
     },
     "0b74619673bf491ea0d642c1dadc95c2": {
      "model_module": "@jupyter-widgets/base",
      "model_module_version": "1.1.0",
      "model_name": "LayoutModel",
      "state": {}
     },
     "0d3a6579e9dd457e809cc43ec14cec64": {
      "model_module": "@jupyter-widgets/base",
      "model_module_version": "1.1.0",
      "model_name": "LayoutModel",
      "state": {}
     },
     "0f505a358f7e44d5822c370be2aad24a": {
      "model_module": "@jupyter-widgets/base",
      "model_module_version": "1.1.0",
      "model_name": "LayoutModel",
      "state": {}
     },
     "107b7fa998c945ff8cf85c0ef492a731": {
      "model_module": "@jupyter-widgets/base",
      "model_module_version": "1.1.0",
      "model_name": "LayoutModel",
      "state": {}
     },
     "11062a077dc64a3984abbffaf2931b1d": {
      "model_module": "@jupyter-widgets/controls",
      "model_module_version": "1.4.0",
      "model_name": "ButtonModel",
      "state": {
       "description": "Attention",
       "layout": "IPY_MODEL_582f0a7db0904a88b9c76bef312a6314",
       "style": "IPY_MODEL_3d928dedb5bc4f548a0a61204de655c5"
      }
     },
     "1174dafaba844e1f97c058b6d692b233": {
      "model_module": "@jupyter-widgets/controls",
      "model_module_version": "1.4.0",
      "model_name": "ButtonStyleModel",
      "state": {}
     },
     "13dff168215841a68108fd639156bacb": {
      "model_module": "@jupyter-widgets/controls",
      "model_module_version": "1.4.0",
      "model_name": "ButtonModel",
      "state": {
       "description": "Passed",
       "layout": "IPY_MODEL_8353381bc51f4786904183a144c24446",
       "style": "IPY_MODEL_db7fa07377854a28ae9efa791ec99646"
      }
     },
     "157a56ac8d5742b5afe0dabb6a8c5002": {
      "model_module": "@jupyter-widgets/base",
      "model_module_version": "1.1.0",
      "model_name": "LayoutModel",
      "state": {}
     },
     "16f806bcdea74aeda760963700ef4598": {
      "model_module": "@jupyter-widgets/base",
      "model_module_version": "1.1.0",
      "model_name": "LayoutModel",
      "state": {}
     },
     "1701a9245d474332b588d1a10da6a5aa": {
      "model_module": "@jupyter-widgets/base",
      "model_module_version": "1.1.0",
      "model_name": "LayoutModel",
      "state": {}
     },
     "1743417afadb43d88c5df2edb35fda33": {
      "model_module": "@jupyter-widgets/controls",
      "model_module_version": "1.4.0",
      "model_name": "ButtonModel",
      "state": {
       "description": "Untested",
       "layout": "IPY_MODEL_1afaa711d7ca4317b9994bf8fce782fe",
       "style": "IPY_MODEL_79d56c9d9b694e62bf91e3b19ae4e81a"
      }
     },
     "182411ccdc0e48f2880e118b080de4cf": {
      "model_module": "@jupyter-widgets/controls",
      "model_module_version": "1.4.0",
      "model_name": "ButtonStyleModel",
      "state": {}
     },
     "192594a1caaf460db546cf643d726282": {
      "model_module": "@jupyter-widgets/controls",
      "model_module_version": "1.4.0",
      "model_name": "VBoxModel",
      "state": {
       "children": [
        "IPY_MODEL_255824a95ba54ac7b975c42afbe76982",
        "IPY_MODEL_e54ab59465104a23bc959e647412a5e3"
       ],
       "layout": "IPY_MODEL_953b92cff7d149208248bcecdac7bb2d"
      }
     },
     "19f42b0b08bc4fbb8583ad84be47403d": {
      "model_module": "@jupyter-widgets/controls",
      "model_module_version": "1.4.0",
      "model_name": "ButtonStyleModel",
      "state": {}
     },
     "1afaa711d7ca4317b9994bf8fce782fe": {
      "model_module": "@jupyter-widgets/base",
      "model_module_version": "1.1.0",
      "model_name": "LayoutModel",
      "state": {}
     },
     "1cb2ae5cf87b4a6694bf8eef1e41ad49": {
      "model_module": "@jupyter-widgets/controls",
      "model_module_version": "1.4.0",
      "model_name": "ButtonStyleModel",
      "state": {}
     },
     "1e7746fde7914704ba3d4448835e9638": {
      "model_module": "@jupyter-widgets/controls",
      "model_module_version": "1.4.0",
      "model_name": "ButtonStyleModel",
      "state": {}
     },
     "204c4c92f09341b697cec6f6e41ce1b3": {
      "model_module": "@jupyter-widgets/output",
      "model_module_version": "1.0.0",
      "model_name": "OutputModel",
      "state": {
       "layout": "IPY_MODEL_ba8c14896c44404a80876fdb0c4df782"
      }
     },
     "20720e0493044cbdb8c33971a12d0f74": {
      "model_module": "@jupyter-widgets/controls",
      "model_module_version": "1.4.0",
      "model_name": "ButtonModel",
      "state": {
       "description": "Failed",
       "layout": "IPY_MODEL_83572064508944e39f398583c1bedcba",
       "style": "IPY_MODEL_c822ac5f10a746fda061dc1e1850212b"
      }
     },
     "22f9ef5d157041e298f4322e005206e3": {
      "model_module": "@jupyter-widgets/controls",
      "model_module_version": "1.4.0",
      "model_name": "HBoxModel",
      "state": {
       "children": [
        "IPY_MODEL_3396ea3d52dc4933a150c736335d7873",
        "IPY_MODEL_ad4886e25abb42b0a1cef766a6ee70e4",
        "IPY_MODEL_68625ca98032486882b74f9e820225aa",
        "IPY_MODEL_1743417afadb43d88c5df2edb35fda33",
        "IPY_MODEL_b6e8b1df45be4a8093d5a10dda08b249",
        "IPY_MODEL_8c094ee9492243b09726d4396160fd57"
       ],
       "layout": "IPY_MODEL_56465418427248c6b88c297a43d8427d"
      }
     },
     "255824a95ba54ac7b975c42afbe76982": {
      "model_module": "@jupyter-widgets/controls",
      "model_module_version": "1.4.0",
      "model_name": "HBoxModel",
      "state": {
       "children": [
        "IPY_MODEL_fffbbf10c68a418fbf2d5f7632add195",
        "IPY_MODEL_ecf715dfab384aaabcd1ad22c144c8ae",
        "IPY_MODEL_b60f2215379342d28ecb5bade2e59f99",
        "IPY_MODEL_97000b91eb8f468698b9368cf4986e58",
        "IPY_MODEL_804a117d79904126bea476f62be457fc",
        "IPY_MODEL_ea1dac0f7103452dbc6e1b1c996164e3"
       ],
       "layout": "IPY_MODEL_63784dae42b0462cbaf019359684a6eb"
      }
     },
     "2637c53002ad44d384cf47a1ba82a12c": {
      "model_module": "@jupyter-widgets/controls",
      "model_module_version": "1.4.0",
      "model_name": "ButtonModel",
      "state": {
       "description": "Untested",
       "layout": "IPY_MODEL_09bcfa6e5b4b40048e0ca3af1c0bd473",
       "style": "IPY_MODEL_1174dafaba844e1f97c058b6d692b233"
      }
     },
     "282ebd962a8d4735892d2bd868308456": {
      "model_module": "@jupyter-widgets/output",
      "model_module_version": "1.0.0",
      "model_name": "OutputModel",
      "state": {
       "layout": "IPY_MODEL_5ec6958a86f44f5d84dc5eba21c8d278",
       "outputs": [
        {
         "name": "stdout",
         "output_type": "stream",
         "text": "•  Stat uncertainties            \n"
        }
       ]
      }
     },
     "28d89667beaf4ceabb667ee5017d7245": {
      "model_module": "@jupyter-widgets/base",
      "model_module_version": "1.1.0",
      "model_name": "LayoutModel",
      "state": {}
     },
     "28ed79a1b3f5460499cf419d24731c62": {
      "model_module": "@jupyter-widgets/output",
      "model_module_version": "1.0.0",
      "model_name": "OutputModel",
      "state": {
       "layout": "IPY_MODEL_d19fe2eb629c445e9b935dd1312ba307"
      }
     },
     "28fda7065533483a9443b42dd3b3de71": {
      "model_module": "@jupyter-widgets/output",
      "model_module_version": "1.0.0",
      "model_name": "OutputModel",
      "state": {
       "layout": "IPY_MODEL_80d21880060a4e9888c5bc17a2217dc4",
       "outputs": [
        {
         "name": "stdout",
         "output_type": "stream",
         "text": "•  Table 1: central values       \n"
        }
       ]
      }
     },
     "293fef1bbc4745a89202efa4a641d0f8": {
      "model_module": "@jupyter-widgets/base",
      "model_module_version": "1.1.0",
      "model_name": "LayoutModel",
      "state": {}
     },
     "2949dc73015642728c54ccea6ef47a24": {
      "model_module": "@jupyter-widgets/controls",
      "model_module_version": "1.4.0",
      "model_name": "ButtonStyleModel",
      "state": {}
     },
     "2c4375af2f454f4b869fc90c24e08e34": {
      "model_module": "@jupyter-widgets/controls",
      "model_module_version": "1.4.0",
      "model_name": "ButtonModel",
      "state": {
       "description": "Passed",
       "layout": "IPY_MODEL_bf7569e28ac046b6bfaf869b9a99cd8a",
       "style": "IPY_MODEL_bc1aee263d144a2a843ab10238c72edc"
      }
     },
     "2d7c7e9d849946848cd54a92f9a7aa0e": {
      "model_module": "@jupyter-widgets/controls",
      "model_module_version": "1.4.0",
      "model_name": "ButtonStyleModel",
      "state": {
       "button_color": "lemonchiffon"
      }
     },
     "2e08f373ec1b4809bb6579e3c76a5eb7": {
      "model_module": "@jupyter-widgets/controls",
      "model_module_version": "1.4.0",
      "model_name": "ButtonModel",
      "state": {
       "description": "Passed",
       "layout": "IPY_MODEL_eaefaf55b18d4297b2744334627603c5",
       "style": "IPY_MODEL_95194638fcb04083a1b823d03f7322a1"
      }
     },
     "322ee27446184f9283b67d8a066e4721": {
      "model_module": "@jupyter-widgets/base",
      "model_module_version": "1.1.0",
      "model_name": "LayoutModel",
      "state": {}
     },
     "33065a02716346f38d85ee87291333db": {
      "model_module": "@jupyter-widgets/base",
      "model_module_version": "1.1.0",
      "model_name": "LayoutModel",
      "state": {}
     },
     "3396ea3d52dc4933a150c736335d7873": {
      "model_module": "@jupyter-widgets/output",
      "model_module_version": "1.0.0",
      "model_name": "OutputModel",
      "state": {
       "layout": "IPY_MODEL_ec2f1bfcbdb84b829773c0f136903950",
       "outputs": [
        {
         "name": "stdout",
         "output_type": "stream",
         "text": "•  Table 4: central values       \n"
        }
       ]
      }
     },
     "3705fa96a0f043a2a2ce351aeb4ce73e": {
      "model_module": "@jupyter-widgets/base",
      "model_module_version": "1.1.0",
      "model_name": "LayoutModel",
      "state": {}
     },
     "37b2fa042f8446daad88529722e08c9c": {
      "model_module": "@jupyter-widgets/controls",
      "model_module_version": "1.4.0",
      "model_name": "ButtonModel",
      "state": {
       "description": "Not required",
       "layout": "IPY_MODEL_96946052cccb41329f06d9f229cfa1c0",
       "style": "IPY_MODEL_3cef0420e404476997cc37435ced02d1"
      }
     },
     "39d7102af18b4759a639a31427e7f570": {
      "model_module": "@jupyter-widgets/base",
      "model_module_version": "1.1.0",
      "model_name": "LayoutModel",
      "state": {}
     },
     "3c44c2c5a1854556bcdb5dc819b6fd55": {
      "model_module": "@jupyter-widgets/base",
      "model_module_version": "1.1.0",
      "model_name": "LayoutModel",
      "state": {}
     },
     "3cef0420e404476997cc37435ced02d1": {
      "model_module": "@jupyter-widgets/controls",
      "model_module_version": "1.4.0",
      "model_name": "ButtonStyleModel",
      "state": {}
     },
     "3d928dedb5bc4f548a0a61204de655c5": {
      "model_module": "@jupyter-widgets/controls",
      "model_module_version": "1.4.0",
      "model_name": "ButtonStyleModel",
      "state": {}
     },
     "41763f7c8b57477ca4b42f64bc217ca5": {
      "model_module": "@jupyter-widgets/controls",
      "model_module_version": "1.4.0",
      "model_name": "ButtonModel",
      "state": {
       "description": "Not required",
       "layout": "IPY_MODEL_856353f1a6f84e5a8f3e3ed83db00ef2",
       "style": "IPY_MODEL_ecab0dd4ad7e426c9894d5b59ec6ce30"
      }
     },
     "432828bc622548a69aa31360ac063065": {
      "model_module": "@jupyter-widgets/output",
      "model_module_version": "1.0.0",
      "model_name": "OutputModel",
      "state": {
       "layout": "IPY_MODEL_eae52a68a3104848ac45f3af5a4a7452",
       "outputs": [
        {
         "name": "stdout",
         "output_type": "stream",
         "text": "•  Journal link                  \n"
        }
       ]
      }
     },
     "4390ba81a30d4b82a5ab99f31ebe0aa9": {
      "model_module": "@jupyter-widgets/controls",
      "model_module_version": "1.4.0",
      "model_name": "ButtonStyleModel",
      "state": {
       "button_color": "lemonchiffon"
      }
     },
     "4459ab9fedd34b52b81c972c73791474": {
      "model_module": "@jupyter-widgets/base",
      "model_module_version": "1.1.0",
      "model_name": "LayoutModel",
      "state": {}
     },
     "45405e7000ae45fa8db190f889aa2e6c": {
      "model_module": "@jupyter-widgets/controls",
      "model_module_version": "1.4.0",
      "model_name": "ButtonStyleModel",
      "state": {}
     },
     "45b57278eda94384ba70eca249bd9510": {
      "model_module": "@jupyter-widgets/controls",
      "model_module_version": "1.4.0",
      "model_name": "ButtonStyleModel",
      "state": {}
     },
     "4703e8019a034bc19ae2c2f5716ab07d": {
      "model_module": "@jupyter-widgets/base",
      "model_module_version": "1.1.0",
      "model_name": "LayoutModel",
      "state": {}
     },
     "4ab3b2bce6a141e1a92a6279a0a99fb9": {
      "model_module": "@jupyter-widgets/controls",
      "model_module_version": "1.4.0",
      "model_name": "ButtonStyleModel",
      "state": {}
     },
     "4ae51e6ec14641039e2f7ae7a3e2fafc": {
      "model_module": "@jupyter-widgets/controls",
      "model_module_version": "1.4.0",
      "model_name": "ButtonStyleModel",
      "state": {
       "button_color": "lemonchiffon"
      }
     },
     "4e15976b6f3645da9cad88574c339d33": {
      "model_module": "@jupyter-widgets/output",
      "model_module_version": "1.0.0",
      "model_name": "OutputModel",
      "state": {
       "layout": "IPY_MODEL_e7e2f0b78e2a4437b8d2d43426dc0df9",
       "outputs": [
        {
         "name": "stdout",
         "output_type": "stream",
         "text": "•  Informative abstract          \n"
        }
       ]
      }
     },
     "4e30ee65e1b84cf094e42185850f9d8f": {
      "model_module": "@jupyter-widgets/base",
      "model_module_version": "1.1.0",
      "model_name": "LayoutModel",
      "state": {}
     },
     "4e69d36b54b04017a422e5ef7e291455": {
      "model_module": "@jupyter-widgets/base",
      "model_module_version": "1.1.0",
      "model_name": "LayoutModel",
      "state": {}
     },
     "4f2fc4b9c12b4ba5b4ee7fc86affa89b": {
      "model_module": "@jupyter-widgets/controls",
      "model_module_version": "1.4.0",
      "model_name": "ButtonStyleModel",
      "state": {}
     },
     "4f5d44b00d11449dbfed1ccf78b659e7": {
      "model_module": "@jupyter-widgets/base",
      "model_module_version": "1.1.0",
      "model_name": "LayoutModel",
      "state": {}
     },
     "4f62e605ee6f472c9f2a2292bb4d3530": {
      "model_module": "@jupyter-widgets/controls",
      "model_module_version": "1.4.0",
      "model_name": "VBoxModel",
      "state": {
       "children": [
        "IPY_MODEL_6e96ac7c92b5449b885e52dcf9a397c3",
        "IPY_MODEL_ae60cfb38d194507b919d3bd39980d1e"
       ],
       "layout": "IPY_MODEL_f13b8c577db54b0bae8c5f519cb63fd2"
      }
     },
     "4fd7336ae5ee47af869939fdee93b6ec": {
      "model_module": "@jupyter-widgets/controls",
      "model_module_version": "1.4.0",
      "model_name": "ButtonStyleModel",
      "state": {
       "button_color": "lime"
      }
     },
     "510ddc0faed2473eb78bca2bc2c8fde6": {
      "model_module": "@jupyter-widgets/base",
      "model_module_version": "1.1.0",
      "model_name": "LayoutModel",
      "state": {}
     },
     "550fecd762ee4e54bbcccde8fca4fe39": {
      "model_module": "@jupyter-widgets/controls",
      "model_module_version": "1.4.0",
      "model_name": "HBoxModel",
      "state": {
       "children": [
        "IPY_MODEL_282ebd962a8d4735892d2bd868308456",
        "IPY_MODEL_fd0253dc03f441acb25689a8931de550",
        "IPY_MODEL_b557a3528e48426d8bf003f68320e4aa",
        "IPY_MODEL_7c41256138444d81a56b3fbda2b7452f",
        "IPY_MODEL_66725b8269d74440ae2318db5cc3c202",
        "IPY_MODEL_bd0b5f8c5b904254b20480cbd4111fea"
       ],
       "layout": "IPY_MODEL_3705fa96a0f043a2a2ce351aeb4ce73e"
      }
     },
     "56465418427248c6b88c297a43d8427d": {
      "model_module": "@jupyter-widgets/base",
      "model_module_version": "1.1.0",
      "model_name": "LayoutModel",
      "state": {}
     },
     "566dd5e96e3e441d98bd512462be3d1d": {
      "model_module": "@jupyter-widgets/controls",
      "model_module_version": "1.4.0",
      "model_name": "ButtonModel",
      "state": {
       "description": "Not required",
       "layout": "IPY_MODEL_28d89667beaf4ceabb667ee5017d7245",
       "style": "IPY_MODEL_45405e7000ae45fa8db190f889aa2e6c"
      }
     },
     "56a08e26afd940a3853fcace62d95d32": {
      "model_module": "@jupyter-widgets/controls",
      "model_module_version": "1.4.0",
      "model_name": "ButtonModel",
      "state": {
       "description": "Untested",
       "layout": "IPY_MODEL_94bda478db1945e5b61e258116864b88",
       "style": "IPY_MODEL_4ae51e6ec14641039e2f7ae7a3e2fafc"
      }
     },
     "57aaf97c52a549f3887c0500e388c5bf": {
      "model_module": "@jupyter-widgets/base",
      "model_module_version": "1.1.0",
      "model_name": "LayoutModel",
      "state": {}
     },
     "581dc5c70ab3402aaaf94d2db21ad46d": {
      "model_module": "@jupyter-widgets/base",
      "model_module_version": "1.1.0",
      "model_name": "LayoutModel",
      "state": {}
     },
     "581de748da4a4cd5bf75d177c446f262": {
      "model_module": "@jupyter-widgets/controls",
      "model_module_version": "1.4.0",
      "model_name": "ButtonModel",
      "state": {
       "description": "Untested",
       "layout": "IPY_MODEL_3c44c2c5a1854556bcdb5dc819b6fd55",
       "style": "IPY_MODEL_89fc9d81a0214cdb851fee7e217c1610"
      }
     },
     "582f0a7db0904a88b9c76bef312a6314": {
      "model_module": "@jupyter-widgets/base",
      "model_module_version": "1.1.0",
      "model_name": "LayoutModel",
      "state": {}
     },
     "597ab982600240088404b4e39fca91ff": {
      "model_module": "@jupyter-widgets/base",
      "model_module_version": "1.1.0",
      "model_name": "LayoutModel",
      "state": {}
     },
     "5d3291fb21444afe82fbefdc37a71c30": {
      "model_module": "@jupyter-widgets/controls",
      "model_module_version": "1.4.0",
      "model_name": "ButtonModel",
      "state": {
       "description": "Attention",
       "layout": "IPY_MODEL_ae5a46b04f604681b6b8205fc12f8140",
       "style": "IPY_MODEL_b490f0f0bf474ddab7444b554c93a91d"
      }
     },
     "5d9bc570ae7044d0b7e59a07a15db453": {
      "model_module": "@jupyter-widgets/controls",
      "model_module_version": "1.4.0",
      "model_name": "ButtonStyleModel",
      "state": {
       "button_color": "lemonchiffon"
      }
     },
     "5e2c4d538abd4183bee2d8ba1b1c9378": {
      "model_module": "@jupyter-widgets/controls",
      "model_module_version": "1.4.0",
      "model_name": "ButtonStyleModel",
      "state": {}
     },
     "5ec6958a86f44f5d84dc5eba21c8d278": {
      "model_module": "@jupyter-widgets/base",
      "model_module_version": "1.1.0",
      "model_name": "LayoutModel",
      "state": {}
     },
     "61716a2ea7fd4390b0ca99465e6f5be7": {
      "model_module": "@jupyter-widgets/controls",
      "model_module_version": "1.4.0",
      "model_name": "ButtonStyleModel",
      "state": {}
     },
     "619e788dae864e168a7d4624d5531cf1": {
      "model_module": "@jupyter-widgets/controls",
      "model_module_version": "1.4.0",
      "model_name": "ButtonStyleModel",
      "state": {}
     },
     "61e712e2f12f473fad7c9187640e9bbb": {
      "model_module": "@jupyter-widgets/controls",
      "model_module_version": "1.4.0",
      "model_name": "ButtonModel",
      "state": {
       "description": "Passed",
       "layout": "IPY_MODEL_4703e8019a034bc19ae2c2f5716ab07d",
       "style": "IPY_MODEL_4fd7336ae5ee47af869939fdee93b6ec"
      }
     },
     "6253468fc0ed485c89180e76ada08055": {
      "model_module": "@jupyter-widgets/output",
      "model_module_version": "1.0.0",
      "model_name": "OutputModel",
      "state": {
       "layout": "IPY_MODEL_d40cf83381d74850b21e120d38b5e9b9"
      }
     },
     "6279ad3a55ac4cf9ad0da530a1005c35": {
      "model_module": "@jupyter-widgets/controls",
      "model_module_version": "1.4.0",
      "model_name": "ButtonModel",
      "state": {
       "description": "Not required",
       "layout": "IPY_MODEL_9d12ed63e88e42d18a5940132b2e6dae",
       "style": "IPY_MODEL_da02587cd7744ceea3b9fe1b6753907f"
      }
     },
     "632c9d2b0ebe4dfdbcccc67b91daf487": {
      "model_module": "@jupyter-widgets/base",
      "model_module_version": "1.1.0",
      "model_name": "LayoutModel",
      "state": {}
     },
     "63784dae42b0462cbaf019359684a6eb": {
      "model_module": "@jupyter-widgets/base",
      "model_module_version": "1.1.0",
      "model_name": "LayoutModel",
      "state": {}
     },
     "6523f34e19a348cda84da6337104046b": {
      "model_module": "@jupyter-widgets/base",
      "model_module_version": "1.1.0",
      "model_name": "LayoutModel",
      "state": {}
     },
     "66725b8269d74440ae2318db5cc3c202": {
      "model_module": "@jupyter-widgets/controls",
      "model_module_version": "1.4.0",
      "model_name": "ButtonModel",
      "state": {
       "description": "Not required",
       "layout": "IPY_MODEL_d264a2721f48475284dde632b8b9be9c",
       "style": "IPY_MODEL_4ab3b2bce6a141e1a92a6279a0a99fb9"
      }
     },
     "667fd3e767c147cf97aeb6eacd44c7be": {
      "model_module": "@jupyter-widgets/controls",
      "model_module_version": "1.4.0",
      "model_name": "ButtonStyleModel",
      "state": {}
     },
     "674eddc73e09442b9a696b15268d00ac": {
      "model_module": "@jupyter-widgets/base",
      "model_module_version": "1.1.0",
      "model_name": "LayoutModel",
      "state": {}
     },
     "675a497447b94b2a948386dfcbd6d5c6": {
      "model_module": "@jupyter-widgets/controls",
      "model_module_version": "1.4.0",
      "model_name": "ButtonModel",
      "state": {
       "description": "Failed",
       "layout": "IPY_MODEL_09c72b66364f47acb57a4ef79bfa223f",
       "style": "IPY_MODEL_61716a2ea7fd4390b0ca99465e6f5be7"
      }
     },
     "68625ca98032486882b74f9e820225aa": {
      "model_module": "@jupyter-widgets/controls",
      "model_module_version": "1.4.0",
      "model_name": "ButtonModel",
      "state": {
       "description": "Attention",
       "layout": "IPY_MODEL_8aff770d48e146c18f5438518073b9ec",
       "style": "IPY_MODEL_02c1375c3be746ea992678a87cd6981e"
      }
     },
     "695ef2d8f67740f4861e5ffeb85b15d1": {
      "model_module": "@jupyter-widgets/controls",
      "model_module_version": "1.4.0",
      "model_name": "HBoxModel",
      "state": {
       "children": [
        "IPY_MODEL_9c16d33e0725446d910dac950f2290d1",
        "IPY_MODEL_fdad7502e8e14b278d5a863a26afe8a4",
        "IPY_MODEL_a7daf4bca21a4cf8be920f687d761b1c",
        "IPY_MODEL_dbf50d8894d14fdaa33988f743f5d8ee",
        "IPY_MODEL_37b2fa042f8446daad88529722e08c9c",
        "IPY_MODEL_13dff168215841a68108fd639156bacb"
       ],
       "layout": "IPY_MODEL_0b74619673bf491ea0d642c1dadc95c2"
      }
     },
     "6acfd56abc1f42b8badc510d74029481": {
      "model_module": "@jupyter-widgets/controls",
      "model_module_version": "1.4.0",
      "model_name": "VBoxModel",
      "state": {
       "children": [
        "IPY_MODEL_01e6c1ff242c456e9dfd74a9690e86e5",
        "IPY_MODEL_836ad74184be4ee095e93cb7034d5879"
       ],
       "layout": "IPY_MODEL_d3ccecdbcb524fabb27a3a1e88ae0350"
      }
     },
     "6b904a053e2d4f93b3fc88a13f3ee213": {
      "model_module": "@jupyter-widgets/controls",
      "model_module_version": "1.4.0",
      "model_name": "ButtonModel",
      "state": {
       "description": "Passed",
       "layout": "IPY_MODEL_a8bb88ed1ae945a99a7ac76ff429b954",
       "style": "IPY_MODEL_d80143432d294a7e9c576bb20e0e50ce"
      }
     },
     "6e96ac7c92b5449b885e52dcf9a397c3": {
      "model_module": "@jupyter-widgets/controls",
      "model_module_version": "1.4.0",
      "model_name": "HBoxModel",
      "state": {
       "children": [
        "IPY_MODEL_432828bc622548a69aa31360ac063065",
        "IPY_MODEL_71a2ff3fa7134440ba09af9a04bba398",
        "IPY_MODEL_73507080339e41e585e49b0fa2a2bd27",
        "IPY_MODEL_2637c53002ad44d384cf47a1ba82a12c",
        "IPY_MODEL_a1ecae19dbef4c14a8538b68eb331b10",
        "IPY_MODEL_61e712e2f12f473fad7c9187640e9bbb"
       ],
       "layout": "IPY_MODEL_be36abee12e44c668b064ba90073618e"
      }
     },
     "709e0dac17d54ffcbc404f2bf03f2e2c": {
      "model_module": "@jupyter-widgets/controls",
      "model_module_version": "1.4.0",
      "model_name": "ButtonStyleModel",
      "state": {
       "button_color": "navajowhite"
      }
     },
     "71a2ff3fa7134440ba09af9a04bba398": {
      "model_module": "@jupyter-widgets/controls",
      "model_module_version": "1.4.0",
      "model_name": "ButtonModel",
      "state": {
       "description": "Failed",
       "layout": "IPY_MODEL_8cad3e9c7ce24e9d876b9b8beb506ca0",
       "style": "IPY_MODEL_9f7be7c091764bf1aba2f4bc5900014a"
      }
     },
     "73507080339e41e585e49b0fa2a2bd27": {
      "model_module": "@jupyter-widgets/controls",
      "model_module_version": "1.4.0",
      "model_name": "ButtonModel",
      "state": {
       "description": "Attention",
       "layout": "IPY_MODEL_293fef1bbc4745a89202efa4a641d0f8",
       "style": "IPY_MODEL_1e7746fde7914704ba3d4448835e9638"
      }
     },
     "74f344d55a574ea2a9e7cdccfa2e885f": {
      "model_module": "@jupyter-widgets/base",
      "model_module_version": "1.1.0",
      "model_name": "LayoutModel",
      "state": {}
     },
     "766849fc9a284b1cb8d7e903e9ec5df5": {
      "model_module": "@jupyter-widgets/base",
      "model_module_version": "1.1.0",
      "model_name": "LayoutModel",
      "state": {}
     },
     "79d56c9d9b694e62bf91e3b19ae4e81a": {
      "model_module": "@jupyter-widgets/controls",
      "model_module_version": "1.4.0",
      "model_name": "ButtonStyleModel",
      "state": {
       "button_color": "lemonchiffon"
      }
     },
     "7a6ce075ac234132b6fac992af29278f": {
      "model_module": "@jupyter-widgets/controls",
      "model_module_version": "1.4.0",
      "model_name": "ButtonStyleModel",
      "state": {}
     },
     "7c3d46caebe94714bbe4bf74bd6ded13": {
      "model_module": "@jupyter-widgets/controls",
      "model_module_version": "1.4.0",
      "model_name": "ButtonStyleModel",
      "state": {}
     },
     "7c41256138444d81a56b3fbda2b7452f": {
      "model_module": "@jupyter-widgets/controls",
      "model_module_version": "1.4.0",
      "model_name": "ButtonModel",
      "state": {
       "description": "Untested",
       "layout": "IPY_MODEL_0f505a358f7e44d5822c370be2aad24a",
       "style": "IPY_MODEL_2d7c7e9d849946848cd54a92f9a7aa0e"
      }
     },
     "804a117d79904126bea476f62be457fc": {
      "model_module": "@jupyter-widgets/controls",
      "model_module_version": "1.4.0",
      "model_name": "ButtonModel",
      "state": {
       "description": "Not required",
       "layout": "IPY_MODEL_b81ffcb4b996451681c59adfd8917cea",
       "style": "IPY_MODEL_1cb2ae5cf87b4a6694bf8eef1e41ad49"
      }
     },
     "80d21880060a4e9888c5bc17a2217dc4": {
      "model_module": "@jupyter-widgets/base",
      "model_module_version": "1.1.0",
      "model_name": "LayoutModel",
      "state": {}
     },
     "80dc3250129240af9331125eb7135b6e": {
      "model_module": "@jupyter-widgets/base",
      "model_module_version": "1.1.0",
      "model_name": "LayoutModel",
      "state": {}
     },
     "8195b9fc280e4c0cb50dcc1bc9b43aad": {
      "model_module": "@jupyter-widgets/output",
      "model_module_version": "1.0.0",
      "model_name": "OutputModel",
      "state": {
       "layout": "IPY_MODEL_39d7102af18b4759a639a31427e7f570"
      }
     },
     "8353381bc51f4786904183a144c24446": {
      "model_module": "@jupyter-widgets/base",
      "model_module_version": "1.1.0",
      "model_name": "LayoutModel",
      "state": {}
     },
     "83572064508944e39f398583c1bedcba": {
      "model_module": "@jupyter-widgets/base",
      "model_module_version": "1.1.0",
      "model_name": "LayoutModel",
      "state": {}
     },
     "836ad74184be4ee095e93cb7034d5879": {
      "model_module": "@jupyter-widgets/output",
      "model_module_version": "1.0.0",
      "model_name": "OutputModel",
      "state": {
       "layout": "IPY_MODEL_8a33b694483d4ed1b708a1a813375110"
      }
     },
     "84fed9adadc740cebc3a75a02561638c": {
      "model_module": "@jupyter-widgets/controls",
      "model_module_version": "1.4.0",
      "model_name": "HBoxModel",
      "state": {
       "children": [
        "IPY_MODEL_09076941420749179b70fd8ec8ab6dbb",
        "IPY_MODEL_bbe1ea72596d42319e2fe6a01ac4f639",
        "IPY_MODEL_5d3291fb21444afe82fbefdc37a71c30",
        "IPY_MODEL_0005830bfd164e3b845d02c94d68c355",
        "IPY_MODEL_6279ad3a55ac4cf9ad0da530a1005c35",
        "IPY_MODEL_6b904a053e2d4f93b3fc88a13f3ee213"
       ],
       "layout": "IPY_MODEL_4f5d44b00d11449dbfed1ccf78b659e7"
      }
     },
     "856353f1a6f84e5a8f3e3ed83db00ef2": {
      "model_module": "@jupyter-widgets/base",
      "model_module_version": "1.1.0",
      "model_name": "LayoutModel",
      "state": {}
     },
     "87af0444c6be41bd88c0f7bb5c003cfb": {
      "model_module": "@jupyter-widgets/controls",
      "model_module_version": "1.4.0",
      "model_name": "VBoxModel",
      "state": {
       "children": [
        "IPY_MODEL_d5af147845704cc195dc2a740b14a3c3",
        "IPY_MODEL_28ed79a1b3f5460499cf419d24731c62"
       ],
       "layout": "IPY_MODEL_4e69d36b54b04017a422e5ef7e291455"
      }
     },
     "88807cd3688947d39d11447bce63cfb7": {
      "model_module": "@jupyter-widgets/base",
      "model_module_version": "1.1.0",
      "model_name": "LayoutModel",
      "state": {}
     },
     "88d81dc2eb824300806b8d745fb3b61d": {
      "model_module": "@jupyter-widgets/base",
      "model_module_version": "1.1.0",
      "model_name": "LayoutModel",
      "state": {}
     },
     "89fc9d81a0214cdb851fee7e217c1610": {
      "model_module": "@jupyter-widgets/controls",
      "model_module_version": "1.4.0",
      "model_name": "ButtonStyleModel",
      "state": {
       "button_color": "lemonchiffon"
      }
     },
     "8a33b694483d4ed1b708a1a813375110": {
      "model_module": "@jupyter-widgets/base",
      "model_module_version": "1.1.0",
      "model_name": "LayoutModel",
      "state": {}
     },
     "8aff770d48e146c18f5438518073b9ec": {
      "model_module": "@jupyter-widgets/base",
      "model_module_version": "1.1.0",
      "model_name": "LayoutModel",
      "state": {}
     },
     "8bd66f3bcb324b109453204dfe834d3e": {
      "model_module": "@jupyter-widgets/controls",
      "model_module_version": "1.4.0",
      "model_name": "VBoxModel",
      "state": {
       "children": [
        "IPY_MODEL_a38db9442b8e4a73bed363ea6a5d2d67",
        "IPY_MODEL_aa55eaa4c1074ee9afd544ebade835a1"
       ],
       "layout": "IPY_MODEL_c1af4966fe7d4466a470f490d62a662a"
      }
     },
     "8c094ee9492243b09726d4396160fd57": {
      "model_module": "@jupyter-widgets/controls",
      "model_module_version": "1.4.0",
      "model_name": "ButtonModel",
      "state": {
       "description": "Passed",
       "layout": "IPY_MODEL_b5eb7cda36724f0bb76bb6331fa61cd8",
       "style": "IPY_MODEL_bc978fe9e0fe4e01ab58df07e7ea2865"
      }
     },
     "8cad3e9c7ce24e9d876b9b8beb506ca0": {
      "model_module": "@jupyter-widgets/base",
      "model_module_version": "1.1.0",
      "model_name": "LayoutModel",
      "state": {}
     },
     "8e0beb31a20e4459858c34d579438317": {
      "model_module": "@jupyter-widgets/base",
      "model_module_version": "1.1.0",
      "model_name": "LayoutModel",
      "state": {}
     },
     "9152cf37baf14b8f9431b68605dbac29": {
      "model_module": "@jupyter-widgets/controls",
      "model_module_version": "1.4.0",
      "model_name": "ButtonStyleModel",
      "state": {}
     },
     "927e831923e44bc38a69cd4cb158aa9e": {
      "model_module": "@jupyter-widgets/base",
      "model_module_version": "1.1.0",
      "model_name": "LayoutModel",
      "state": {}
     },
     "94195b38552a4d69b7d3e796fc16ef33": {
      "model_module": "@jupyter-widgets/controls",
      "model_module_version": "1.4.0",
      "model_name": "ButtonModel",
      "state": {
       "description": "Untested",
       "layout": "IPY_MODEL_eeffba4d8a3c46469204ab911e4fa673",
       "style": "IPY_MODEL_e7bbb8f422a44303b35dbee30605f8c9"
      }
     },
     "94bda478db1945e5b61e258116864b88": {
      "model_module": "@jupyter-widgets/base",
      "model_module_version": "1.1.0",
      "model_name": "LayoutModel",
      "state": {}
     },
     "94fc82fb61c1425e88dbeeeb8905e3c9": {
      "model_module": "@jupyter-widgets/controls",
      "model_module_version": "1.4.0",
      "model_name": "ButtonStyleModel",
      "state": {}
     },
     "95194638fcb04083a1b823d03f7322a1": {
      "model_module": "@jupyter-widgets/controls",
      "model_module_version": "1.4.0",
      "model_name": "ButtonStyleModel",
      "state": {}
     },
     "953b92cff7d149208248bcecdac7bb2d": {
      "model_module": "@jupyter-widgets/base",
      "model_module_version": "1.1.0",
      "model_name": "LayoutModel",
      "state": {}
     },
     "96946052cccb41329f06d9f229cfa1c0": {
      "model_module": "@jupyter-widgets/base",
      "model_module_version": "1.1.0",
      "model_name": "LayoutModel",
      "state": {}
     },
     "969e8e8e5335482fa4962419f91e57ed": {
      "model_module": "@jupyter-widgets/base",
      "model_module_version": "1.1.0",
      "model_name": "LayoutModel",
      "state": {}
     },
     "97000b91eb8f468698b9368cf4986e58": {
      "model_module": "@jupyter-widgets/controls",
      "model_module_version": "1.4.0",
      "model_name": "ButtonModel",
      "state": {
       "description": "Untested",
       "layout": "IPY_MODEL_4459ab9fedd34b52b81c972c73791474",
       "style": "IPY_MODEL_5d9bc570ae7044d0b7e59a07a15db453"
      }
     },
     "9a600d31eae64e7e800d8a767f082f62": {
      "model_module": "@jupyter-widgets/base",
      "model_module_version": "1.1.0",
      "model_name": "LayoutModel",
      "state": {}
     },
     "9c16d33e0725446d910dac950f2290d1": {
      "model_module": "@jupyter-widgets/output",
      "model_module_version": "1.0.0",
      "model_name": "OutputModel",
      "state": {
       "layout": "IPY_MODEL_d558364d24064ef6a34c9244560bdc82",
       "outputs": [
        {
         "name": "stdout",
         "output_type": "stream",
         "text": "•  Table 3: central values       \n"
        }
       ]
      }
     },
     "9d12ed63e88e42d18a5940132b2e6dae": {
      "model_module": "@jupyter-widgets/base",
      "model_module_version": "1.1.0",
      "model_name": "LayoutModel",
      "state": {}
     },
     "9f7be7c091764bf1aba2f4bc5900014a": {
      "model_module": "@jupyter-widgets/controls",
      "model_module_version": "1.4.0",
      "model_name": "ButtonStyleModel",
      "state": {}
     },
     "a1ecae19dbef4c14a8538b68eb331b10": {
      "model_module": "@jupyter-widgets/controls",
      "model_module_version": "1.4.0",
      "model_name": "ButtonModel",
      "state": {
       "description": "Not required",
       "layout": "IPY_MODEL_f56aee4e564946c9be792b04e355abcc",
       "style": "IPY_MODEL_d12a0293c41c4deb9ca153ef213fbb29"
      }
     },
     "a38db9442b8e4a73bed363ea6a5d2d67": {
      "model_module": "@jupyter-widgets/controls",
      "model_module_version": "1.4.0",
      "model_name": "HBoxModel",
      "state": {
       "children": [
        "IPY_MODEL_4e15976b6f3645da9cad88574c339d33",
        "IPY_MODEL_20720e0493044cbdb8c33971a12d0f74",
        "IPY_MODEL_a58dbaeecf06454894c1c738f7309573",
        "IPY_MODEL_be9df1735d5d4b25bb87b53211f98509",
        "IPY_MODEL_c5875c32c819493f89502e77dc72a933",
        "IPY_MODEL_b935a69121d04839938b9472acf78429"
       ],
       "layout": "IPY_MODEL_16f806bcdea74aeda760963700ef4598"
      }
     },
     "a42b396e98014bdb9204ce8b4d8878d3": {
      "model_module": "@jupyter-widgets/controls",
      "model_module_version": "1.4.0",
      "model_name": "VBoxModel",
      "state": {
       "children": [
        "IPY_MODEL_22f9ef5d157041e298f4322e005206e3",
        "IPY_MODEL_204c4c92f09341b697cec6f6e41ce1b3"
       ],
       "layout": "IPY_MODEL_969e8e8e5335482fa4962419f91e57ed"
      }
     },
     "a58dbaeecf06454894c1c738f7309573": {
      "model_module": "@jupyter-widgets/controls",
      "model_module_version": "1.4.0",
      "model_name": "ButtonModel",
      "state": {
       "description": "Attention",
       "layout": "IPY_MODEL_bac5ef1adb9b4943b251d7747b5acae3",
       "style": "IPY_MODEL_709e0dac17d54ffcbc404f2bf03f2e2c"
      }
     },
     "a7daf4bca21a4cf8be920f687d761b1c": {
      "model_module": "@jupyter-widgets/controls",
      "model_module_version": "1.4.0",
      "model_name": "ButtonModel",
      "state": {
       "description": "Attention",
       "layout": "IPY_MODEL_80dc3250129240af9331125eb7135b6e",
       "style": "IPY_MODEL_667fd3e767c147cf97aeb6eacd44c7be"
      }
     },
     "a853a4bcdc854ab48548737925279d39": {
      "model_module": "@jupyter-widgets/output",
      "model_module_version": "1.0.0",
      "model_name": "OutputModel",
      "state": {
       "layout": "IPY_MODEL_6523f34e19a348cda84da6337104046b"
      }
     },
     "a8bb88ed1ae945a99a7ac76ff429b954": {
      "model_module": "@jupyter-widgets/base",
      "model_module_version": "1.1.0",
      "model_name": "LayoutModel",
      "state": {}
     },
     "aa55eaa4c1074ee9afd544ebade835a1": {
      "model_module": "@jupyter-widgets/output",
      "model_module_version": "1.0.0",
      "model_name": "OutputModel",
      "state": {
       "layout": "IPY_MODEL_597ab982600240088404b4e39fca91ff",
       "outputs": [
        {
         "name": "stdout",
         "output_type": "stream",
         "text": "                                 arbitrary comment\n"
        }
       ]
      }
     },
     "aaa0a07cacaf4281b2d135a59e32adcb": {
      "model_module": "@jupyter-widgets/base",
      "model_module_version": "1.1.0",
      "model_name": "LayoutModel",
      "state": {}
     },
     "aae33015e0214b9aadb6ffefbb8dffb9": {
      "model_module": "@jupyter-widgets/controls",
      "model_module_version": "1.4.0",
      "model_name": "ButtonStyleModel",
      "state": {}
     },
     "ad4886e25abb42b0a1cef766a6ee70e4": {
      "model_module": "@jupyter-widgets/controls",
      "model_module_version": "1.4.0",
      "model_name": "ButtonModel",
      "state": {
       "description": "Failed",
       "layout": "IPY_MODEL_157a56ac8d5742b5afe0dabb6a8c5002",
       "style": "IPY_MODEL_2949dc73015642728c54ccea6ef47a24"
      }
     },
     "adb4340792fc4a9282d2dac18611a19c": {
      "model_module": "@jupyter-widgets/base",
      "model_module_version": "1.1.0",
      "model_name": "LayoutModel",
      "state": {}
     },
     "ae5a46b04f604681b6b8205fc12f8140": {
      "model_module": "@jupyter-widgets/base",
      "model_module_version": "1.1.0",
      "model_name": "LayoutModel",
      "state": {}
     },
     "ae60cfb38d194507b919d3bd39980d1e": {
      "model_module": "@jupyter-widgets/output",
      "model_module_version": "1.0.0",
      "model_name": "OutputModel",
      "state": {
       "layout": "IPY_MODEL_bcbd25ca8372487e9d138746857fdb70"
      }
     },
     "af4725292b234e23a804e6f664e2d205": {
      "model_module": "@jupyter-widgets/controls",
      "model_module_version": "1.4.0",
      "model_name": "ButtonStyleModel",
      "state": {}
     },
     "b490f0f0bf474ddab7444b554c93a91d": {
      "model_module": "@jupyter-widgets/controls",
      "model_module_version": "1.4.0",
      "model_name": "ButtonStyleModel",
      "state": {}
     },
     "b557a3528e48426d8bf003f68320e4aa": {
      "model_module": "@jupyter-widgets/controls",
      "model_module_version": "1.4.0",
      "model_name": "ButtonModel",
      "state": {
       "description": "Attention",
       "layout": "IPY_MODEL_33065a02716346f38d85ee87291333db",
       "style": "IPY_MODEL_f89e505306a54314a87b6a9f33ef1150"
      }
     },
     "b5e6aeec65034ff5bf1d35528070c365": {
      "model_module": "@jupyter-widgets/base",
      "model_module_version": "1.1.0",
      "model_name": "LayoutModel",
      "state": {}
     },
     "b5eb7cda36724f0bb76bb6331fa61cd8": {
      "model_module": "@jupyter-widgets/base",
      "model_module_version": "1.1.0",
      "model_name": "LayoutModel",
      "state": {}
     },
     "b60f2215379342d28ecb5bade2e59f99": {
      "model_module": "@jupyter-widgets/controls",
      "model_module_version": "1.4.0",
      "model_name": "ButtonModel",
      "state": {
       "description": "Attention",
       "layout": "IPY_MODEL_766849fc9a284b1cb8d7e903e9ec5df5",
       "style": "IPY_MODEL_fae624b3d32a4a0591b44762fec4161a"
      }
     },
     "b6e8b1df45be4a8093d5a10dda08b249": {
      "model_module": "@jupyter-widgets/controls",
      "model_module_version": "1.4.0",
      "model_name": "ButtonModel",
      "state": {
       "description": "Not required",
       "layout": "IPY_MODEL_fac1bf0011da4857939497fac094f278",
       "style": "IPY_MODEL_5e2c4d538abd4183bee2d8ba1b1c9378"
      }
     },
     "b81ffcb4b996451681c59adfd8917cea": {
      "model_module": "@jupyter-widgets/base",
      "model_module_version": "1.1.0",
      "model_name": "LayoutModel",
      "state": {}
     },
     "b935a69121d04839938b9472acf78429": {
      "model_module": "@jupyter-widgets/controls",
      "model_module_version": "1.4.0",
      "model_name": "ButtonModel",
      "state": {
       "description": "Passed",
       "layout": "IPY_MODEL_ecfda9e88b794fbf8a16e9e2c7efeffc",
       "style": "IPY_MODEL_e79b918f8dfd4c80a4f7d267abdd23c2"
      }
     },
     "ba8c14896c44404a80876fdb0c4df782": {
      "model_module": "@jupyter-widgets/base",
      "model_module_version": "1.1.0",
      "model_name": "LayoutModel",
      "state": {}
     },
     "bac5ef1adb9b4943b251d7747b5acae3": {
      "model_module": "@jupyter-widgets/base",
      "model_module_version": "1.1.0",
      "model_name": "LayoutModel",
      "state": {}
     },
     "bbe1ea72596d42319e2fe6a01ac4f639": {
      "model_module": "@jupyter-widgets/controls",
      "model_module_version": "1.4.0",
      "model_name": "ButtonModel",
      "state": {
       "description": "Failed",
       "layout": "IPY_MODEL_107b7fa998c945ff8cf85c0ef492a731",
       "style": "IPY_MODEL_94fc82fb61c1425e88dbeeeb8905e3c9"
      }
     },
     "bc1aee263d144a2a843ab10238c72edc": {
      "model_module": "@jupyter-widgets/controls",
      "model_module_version": "1.4.0",
      "model_name": "ButtonStyleModel",
      "state": {}
     },
     "bc978fe9e0fe4e01ab58df07e7ea2865": {
      "model_module": "@jupyter-widgets/controls",
      "model_module_version": "1.4.0",
      "model_name": "ButtonStyleModel",
      "state": {}
     },
     "bcbd25ca8372487e9d138746857fdb70": {
      "model_module": "@jupyter-widgets/base",
      "model_module_version": "1.1.0",
      "model_name": "LayoutModel",
      "state": {}
     },
     "bd0b5f8c5b904254b20480cbd4111fea": {
      "model_module": "@jupyter-widgets/controls",
      "model_module_version": "1.4.0",
      "model_name": "ButtonModel",
      "state": {
       "description": "Passed",
       "layout": "IPY_MODEL_88d81dc2eb824300806b8d745fb3b61d",
       "style": "IPY_MODEL_4f2fc4b9c12b4ba5b4ee7fc86affa89b"
      }
     },
     "be36abee12e44c668b064ba90073618e": {
      "model_module": "@jupyter-widgets/base",
      "model_module_version": "1.1.0",
      "model_name": "LayoutModel",
      "state": {}
     },
     "be810fa0ccb2448abcb2afafe4b84c03": {
      "model_module": "@jupyter-widgets/base",
      "model_module_version": "1.1.0",
      "model_name": "LayoutModel",
      "state": {}
     },
     "be9df1735d5d4b25bb87b53211f98509": {
      "model_module": "@jupyter-widgets/controls",
      "model_module_version": "1.4.0",
      "model_name": "ButtonModel",
      "state": {
       "description": "Untested",
       "layout": "IPY_MODEL_f3a7255d07994ba18314305969ffb0cd",
       "style": "IPY_MODEL_af4725292b234e23a804e6f664e2d205"
      }
     },
     "bf7569e28ac046b6bfaf869b9a99cd8a": {
      "model_module": "@jupyter-widgets/base",
      "model_module_version": "1.1.0",
      "model_name": "LayoutModel",
      "state": {}
     },
     "c1af4966fe7d4466a470f490d62a662a": {
      "model_module": "@jupyter-widgets/base",
      "model_module_version": "1.1.0",
      "model_name": "LayoutModel",
      "state": {}
     },
     "c1bc05fe1b974c609048802bc8ef9c94": {
      "model_module": "@jupyter-widgets/controls",
      "model_module_version": "1.4.0",
      "model_name": "ButtonModel",
      "state": {
       "description": "Not required",
       "layout": "IPY_MODEL_0d3a6579e9dd457e809cc43ec14cec64",
       "style": "IPY_MODEL_9152cf37baf14b8f9431b68605dbac29"
      }
     },
     "c3e50b2285b1447081602e5c07a7b180": {
      "model_module": "@jupyter-widgets/base",
      "model_module_version": "1.1.0",
      "model_name": "LayoutModel",
      "state": {}
     },
     "c4ad2188ebfe470a98e650ce8a8bf109": {
      "model_module": "@jupyter-widgets/controls",
      "model_module_version": "1.4.0",
      "model_name": "ButtonStyleModel",
      "state": {}
     },
     "c5875c32c819493f89502e77dc72a933": {
      "model_module": "@jupyter-widgets/controls",
      "model_module_version": "1.4.0",
      "model_name": "ButtonModel",
      "state": {
       "description": "Not required",
       "layout": "IPY_MODEL_adb4340792fc4a9282d2dac18611a19c",
       "style": "IPY_MODEL_aae33015e0214b9aadb6ffefbb8dffb9"
      }
     },
     "c63b41c14eb14de78e1b70e92ebe73e5": {
      "model_module": "@jupyter-widgets/controls",
      "model_module_version": "1.4.0",
      "model_name": "VBoxModel",
      "state": {
       "children": [
        "IPY_MODEL_dedab4626f67483b8f2406e0ddcdbef2",
        "IPY_MODEL_d7959d10981f4d4d843c3b03df68d9ea"
       ],
       "layout": "IPY_MODEL_322ee27446184f9283b67d8a066e4721"
      }
     },
     "c822ac5f10a746fda061dc1e1850212b": {
      "model_module": "@jupyter-widgets/controls",
      "model_module_version": "1.4.0",
      "model_name": "ButtonStyleModel",
      "state": {}
     },
     "ca2ea02d90fd44f08f52f512098f5582": {
      "model_module": "@jupyter-widgets/base",
      "model_module_version": "1.1.0",
      "model_name": "LayoutModel",
      "state": {}
     },
     "cd44905d3742413185fc4e53429944a8": {
      "model_module": "@jupyter-widgets/controls",
      "model_module_version": "1.4.0",
      "model_name": "VBoxModel",
      "state": {
       "children": [
        "IPY_MODEL_84fed9adadc740cebc3a75a02561638c",
        "IPY_MODEL_a853a4bcdc854ab48548737925279d39"
       ],
       "layout": "IPY_MODEL_510ddc0faed2473eb78bca2bc2c8fde6"
      }
     },
     "d12a0293c41c4deb9ca153ef213fbb29": {
      "model_module": "@jupyter-widgets/controls",
      "model_module_version": "1.4.0",
      "model_name": "ButtonStyleModel",
      "state": {}
     },
     "d19fe2eb629c445e9b935dd1312ba307": {
      "model_module": "@jupyter-widgets/base",
      "model_module_version": "1.1.0",
      "model_name": "LayoutModel",
      "state": {}
     },
     "d264a2721f48475284dde632b8b9be9c": {
      "model_module": "@jupyter-widgets/base",
      "model_module_version": "1.1.0",
      "model_name": "LayoutModel",
      "state": {}
     },
     "d3ccecdbcb524fabb27a3a1e88ae0350": {
      "model_module": "@jupyter-widgets/base",
      "model_module_version": "1.1.0",
      "model_name": "LayoutModel",
      "state": {}
     },
     "d40cf83381d74850b21e120d38b5e9b9": {
      "model_module": "@jupyter-widgets/base",
      "model_module_version": "1.1.0",
      "model_name": "LayoutModel",
      "state": {}
     },
     "d558364d24064ef6a34c9244560bdc82": {
      "model_module": "@jupyter-widgets/base",
      "model_module_version": "1.1.0",
      "model_name": "LayoutModel",
      "state": {}
     },
     "d5af147845704cc195dc2a740b14a3c3": {
      "model_module": "@jupyter-widgets/controls",
      "model_module_version": "1.4.0",
      "model_name": "HBoxModel",
      "state": {
       "children": [
        "IPY_MODEL_0663fb968bc146e0b203950d459316db",
        "IPY_MODEL_675a497447b94b2a948386dfcbd6d5c6",
        "IPY_MODEL_11062a077dc64a3984abbffaf2931b1d",
        "IPY_MODEL_56a08e26afd940a3853fcace62d95d32",
        "IPY_MODEL_566dd5e96e3e441d98bd512462be3d1d",
        "IPY_MODEL_d9aea6969a634d569be151dfd05ebb8c"
       ],
       "layout": "IPY_MODEL_927e831923e44bc38a69cd4cb158aa9e"
      }
     },
     "d6f020bceb544e48a83618c5bb8bbd3d": {
      "model_module": "@jupyter-widgets/controls",
      "model_module_version": "1.4.0",
      "model_name": "VBoxModel",
      "state": {
       "children": [
        "IPY_MODEL_695ef2d8f67740f4861e5ffeb85b15d1",
        "IPY_MODEL_8195b9fc280e4c0cb50dcc1bc9b43aad"
       ],
       "layout": "IPY_MODEL_74f344d55a574ea2a9e7cdccfa2e885f"
      }
     },
     "d7959d10981f4d4d843c3b03df68d9ea": {
      "model_module": "@jupyter-widgets/output",
      "model_module_version": "1.0.0",
      "model_name": "OutputModel",
      "state": {
       "layout": "IPY_MODEL_674eddc73e09442b9a696b15268d00ac"
      }
     },
     "d80143432d294a7e9c576bb20e0e50ce": {
      "model_module": "@jupyter-widgets/controls",
      "model_module_version": "1.4.0",
      "model_name": "ButtonStyleModel",
      "state": {
       "button_color": "lime"
      }
     },
     "d9aea6969a634d569be151dfd05ebb8c": {
      "model_module": "@jupyter-widgets/controls",
      "model_module_version": "1.4.0",
      "model_name": "ButtonModel",
      "state": {
       "description": "Passed",
       "layout": "IPY_MODEL_e370e8cf62244299a0e90df5df8aea92",
       "style": "IPY_MODEL_7c3d46caebe94714bbe4bf74bd6ded13"
      }
     },
     "da02587cd7744ceea3b9fe1b6753907f": {
      "model_module": "@jupyter-widgets/controls",
      "model_module_version": "1.4.0",
      "model_name": "ButtonStyleModel",
      "state": {}
     },
     "db7fa07377854a28ae9efa791ec99646": {
      "model_module": "@jupyter-widgets/controls",
      "model_module_version": "1.4.0",
      "model_name": "ButtonStyleModel",
      "state": {}
     },
     "dbf50d8894d14fdaa33988f743f5d8ee": {
      "model_module": "@jupyter-widgets/controls",
      "model_module_version": "1.4.0",
      "model_name": "ButtonModel",
      "state": {
       "description": "Untested",
       "layout": "IPY_MODEL_e5431102996c4634acd5abd4065391b2",
       "style": "IPY_MODEL_4390ba81a30d4b82a5ab99f31ebe0aa9"
      }
     },
     "de0a6810f8094853a6e3c0a3fcc91709": {
      "model_module": "@jupyter-widgets/controls",
      "model_module_version": "1.4.0",
      "model_name": "ButtonStyleModel",
      "state": {}
     },
     "dedab4626f67483b8f2406e0ddcdbef2": {
      "model_module": "@jupyter-widgets/controls",
      "model_module_version": "1.4.0",
      "model_name": "HBoxModel",
      "state": {
       "children": [
        "IPY_MODEL_e46385326ae54dcca0e78da048aff4eb",
        "IPY_MODEL_e1d6e6d164074fd484c2b593b5e60efb",
        "IPY_MODEL_03a5d8406d204bc9885916d81e0fc953",
        "IPY_MODEL_581de748da4a4cd5bf75d177c446f262",
        "IPY_MODEL_41763f7c8b57477ca4b42f64bc217ca5",
        "IPY_MODEL_2e08f373ec1b4809bb6579e3c76a5eb7"
       ],
       "layout": "IPY_MODEL_9a600d31eae64e7e800d8a767f082f62"
      }
     },
     "e1ca9860eb9941c69886f987e6e44f1c": {
      "model_module": "@jupyter-widgets/controls",
      "model_module_version": "1.4.0",
      "model_name": "VBoxModel",
      "state": {
       "children": [
        "IPY_MODEL_4f62e605ee6f472c9f2a2292bb4d3530",
        "IPY_MODEL_cd44905d3742413185fc4e53429944a8",
        "IPY_MODEL_8bd66f3bcb324b109453204dfe834d3e",
        "IPY_MODEL_ecb899c77d784f0e96d7bc8a6f684f02",
        "IPY_MODEL_c63b41c14eb14de78e1b70e92ebe73e5",
        "IPY_MODEL_87af0444c6be41bd88c0f7bb5c003cfb",
        "IPY_MODEL_6acfd56abc1f42b8badc510d74029481",
        "IPY_MODEL_192594a1caaf460db546cf643d726282",
        "IPY_MODEL_d6f020bceb544e48a83618c5bb8bbd3d",
        "IPY_MODEL_a42b396e98014bdb9204ce8b4d8878d3"
       ],
       "layout": "IPY_MODEL_1701a9245d474332b588d1a10da6a5aa"
      }
     },
     "e1d6e6d164074fd484c2b593b5e60efb": {
      "model_module": "@jupyter-widgets/controls",
      "model_module_version": "1.4.0",
      "model_name": "ButtonModel",
      "state": {
       "description": "Failed",
       "layout": "IPY_MODEL_581dc5c70ab3402aaaf94d2db21ad46d",
       "style": "IPY_MODEL_c4ad2188ebfe470a98e650ce8a8bf109"
      }
     },
     "e2c8aa6681b343ad9f4aa904524c096d": {
      "model_module": "@jupyter-widgets/base",
      "model_module_version": "1.1.0",
      "model_name": "LayoutModel",
      "state": {}
     },
     "e370e8cf62244299a0e90df5df8aea92": {
      "model_module": "@jupyter-widgets/base",
      "model_module_version": "1.1.0",
      "model_name": "LayoutModel",
      "state": {}
     },
     "e46385326ae54dcca0e78da048aff4eb": {
      "model_module": "@jupyter-widgets/output",
      "model_module_version": "1.0.0",
      "model_name": "OutputModel",
      "state": {
       "layout": "IPY_MODEL_b5e6aeec65034ff5bf1d35528070c365",
       "outputs": [
        {
         "name": "stdout",
         "output_type": "stream",
         "text": "•  Syst uncertainties            \n"
        }
       ]
      }
     },
     "e5431102996c4634acd5abd4065391b2": {
      "model_module": "@jupyter-widgets/base",
      "model_module_version": "1.1.0",
      "model_name": "LayoutModel",
      "state": {}
     },
     "e54ab59465104a23bc959e647412a5e3": {
      "model_module": "@jupyter-widgets/output",
      "model_module_version": "1.0.0",
      "model_name": "OutputModel",
      "state": {
       "layout": "IPY_MODEL_f37ad86bc28945c1a445b15800043401"
      }
     },
     "e79b918f8dfd4c80a4f7d267abdd23c2": {
      "model_module": "@jupyter-widgets/controls",
      "model_module_version": "1.4.0",
      "model_name": "ButtonStyleModel",
      "state": {}
     },
     "e7bbb8f422a44303b35dbee30605f8c9": {
      "model_module": "@jupyter-widgets/controls",
      "model_module_version": "1.4.0",
      "model_name": "ButtonStyleModel",
      "state": {
       "button_color": "lemonchiffon"
      }
     },
     "e7e2f0b78e2a4437b8d2d43426dc0df9": {
      "model_module": "@jupyter-widgets/base",
      "model_module_version": "1.1.0",
      "model_name": "LayoutModel",
      "state": {}
     },
     "ea1dac0f7103452dbc6e1b1c996164e3": {
      "model_module": "@jupyter-widgets/controls",
      "model_module_version": "1.4.0",
      "model_name": "ButtonModel",
      "state": {
       "description": "Passed",
       "layout": "IPY_MODEL_be810fa0ccb2448abcb2afafe4b84c03",
       "style": "IPY_MODEL_182411ccdc0e48f2880e118b080de4cf"
      }
     },
     "eae52a68a3104848ac45f3af5a4a7452": {
      "model_module": "@jupyter-widgets/base",
      "model_module_version": "1.1.0",
      "model_name": "LayoutModel",
      "state": {}
     },
     "eaefaf55b18d4297b2744334627603c5": {
      "model_module": "@jupyter-widgets/base",
      "model_module_version": "1.1.0",
      "model_name": "LayoutModel",
      "state": {}
     },
     "ec2f1bfcbdb84b829773c0f136903950": {
      "model_module": "@jupyter-widgets/base",
      "model_module_version": "1.1.0",
      "model_name": "LayoutModel",
      "state": {}
     },
     "ecab0dd4ad7e426c9894d5b59ec6ce30": {
      "model_module": "@jupyter-widgets/controls",
      "model_module_version": "1.4.0",
      "model_name": "ButtonStyleModel",
      "state": {}
     },
     "ecb899c77d784f0e96d7bc8a6f684f02": {
      "model_module": "@jupyter-widgets/controls",
      "model_module_version": "1.4.0",
      "model_name": "VBoxModel",
      "state": {
       "children": [
        "IPY_MODEL_550fecd762ee4e54bbcccde8fca4fe39",
        "IPY_MODEL_6253468fc0ed485c89180e76ada08055"
       ],
       "layout": "IPY_MODEL_4e30ee65e1b84cf094e42185850f9d8f"
      }
     },
     "ecf715dfab384aaabcd1ad22c144c8ae": {
      "model_module": "@jupyter-widgets/controls",
      "model_module_version": "1.4.0",
      "model_name": "ButtonModel",
      "state": {
       "description": "Failed",
       "layout": "IPY_MODEL_88807cd3688947d39d11447bce63cfb7",
       "style": "IPY_MODEL_de0a6810f8094853a6e3c0a3fcc91709"
      }
     },
     "ecfda9e88b794fbf8a16e9e2c7efeffc": {
      "model_module": "@jupyter-widgets/base",
      "model_module_version": "1.1.0",
      "model_name": "LayoutModel",
      "state": {}
     },
     "eeffba4d8a3c46469204ab911e4fa673": {
      "model_module": "@jupyter-widgets/base",
      "model_module_version": "1.1.0",
      "model_name": "LayoutModel",
      "state": {}
     },
     "ef835030738148a2b6a624e2aa5fb0b5": {
      "model_module": "@jupyter-widgets/controls",
      "model_module_version": "1.4.0",
      "model_name": "ButtonStyleModel",
      "state": {}
     },
     "f13b8c577db54b0bae8c5f519cb63fd2": {
      "model_module": "@jupyter-widgets/base",
      "model_module_version": "1.1.0",
      "model_name": "LayoutModel",
      "state": {}
     },
     "f14c97c378934ad69cd45a7f4b305a94": {
      "model_module": "@jupyter-widgets/controls",
      "model_module_version": "1.4.0",
      "model_name": "ButtonModel",
      "state": {
       "description": "Attention",
       "layout": "IPY_MODEL_08a381f1d2864aadbc75680090412b64",
       "style": "IPY_MODEL_7a6ce075ac234132b6fac992af29278f"
      }
     },
     "f37ad86bc28945c1a445b15800043401": {
      "model_module": "@jupyter-widgets/base",
      "model_module_version": "1.1.0",
      "model_name": "LayoutModel",
      "state": {}
     },
     "f3a7255d07994ba18314305969ffb0cd": {
      "model_module": "@jupyter-widgets/base",
      "model_module_version": "1.1.0",
      "model_name": "LayoutModel",
      "state": {}
     },
     "f404ac1ff903441fa693d0c504f123c5": {
      "model_module": "@jupyter-widgets/base",
      "model_module_version": "1.1.0",
      "model_name": "LayoutModel",
      "state": {}
     },
     "f56aee4e564946c9be792b04e355abcc": {
      "model_module": "@jupyter-widgets/base",
      "model_module_version": "1.1.0",
      "model_name": "LayoutModel",
      "state": {}
     },
     "f898d68423af49668a31b8f992a142ba": {
      "model_module": "@jupyter-widgets/controls",
      "model_module_version": "1.4.0",
      "model_name": "TextModel",
      "state": {
       "layout": "IPY_MODEL_02eb676e3ca54e6c8b7a35889b0c6fa2",
       "style": "IPY_MODEL_076d9f9f976244c6bb84beb109697449",
       "value": "hello"
      }
     },
     "f89e505306a54314a87b6a9f33ef1150": {
      "model_module": "@jupyter-widgets/controls",
      "model_module_version": "1.4.0",
      "model_name": "ButtonStyleModel",
      "state": {}
     },
     "fac1bf0011da4857939497fac094f278": {
      "model_module": "@jupyter-widgets/base",
      "model_module_version": "1.1.0",
      "model_name": "LayoutModel",
      "state": {}
     },
     "fae624b3d32a4a0591b44762fec4161a": {
      "model_module": "@jupyter-widgets/controls",
      "model_module_version": "1.4.0",
      "model_name": "ButtonStyleModel",
      "state": {}
     },
     "fc067296794a4a73b17864959ffac1c0": {
      "model_module": "@jupyter-widgets/controls",
      "model_module_version": "1.4.0",
      "model_name": "ButtonStyleModel",
      "state": {}
     },
     "fd0253dc03f441acb25689a8931de550": {
      "model_module": "@jupyter-widgets/controls",
      "model_module_version": "1.4.0",
      "model_name": "ButtonModel",
      "state": {
       "description": "Failed",
       "layout": "IPY_MODEL_f404ac1ff903441fa693d0c504f123c5",
       "style": "IPY_MODEL_19f42b0b08bc4fbb8583ad84be47403d"
      }
     },
     "fdad7502e8e14b278d5a863a26afe8a4": {
      "model_module": "@jupyter-widgets/controls",
      "model_module_version": "1.4.0",
      "model_name": "ButtonModel",
      "state": {
       "description": "Failed",
       "layout": "IPY_MODEL_57aaf97c52a549f3887c0500e388c5bf",
       "style": "IPY_MODEL_fc067296794a4a73b17864959ffac1c0"
      }
     },
     "ff96b86c82bc4c6284061f14ede886f6": {
      "model_module": "@jupyter-widgets/controls",
      "model_module_version": "1.4.0",
      "model_name": "ButtonModel",
      "state": {
       "description": "Failed",
       "layout": "IPY_MODEL_ca2ea02d90fd44f08f52f512098f5582",
       "style": "IPY_MODEL_45b57278eda94384ba70eca249bd9510"
      }
     },
     "fffbbf10c68a418fbf2d5f7632add195": {
      "model_module": "@jupyter-widgets/output",
      "model_module_version": "1.0.0",
      "model_name": "OutputModel",
      "state": {
       "layout": "IPY_MODEL_e2c8aa6681b343ad9f4aa904524c096d",
       "outputs": [
        {
         "name": "stdout",
         "output_type": "stream",
         "text": "•  Table 2: central values       \n"
        }
       ]
      }
     }
    },
    "version_major": 2,
    "version_minor": 0
   }
  }
 },
 "nbformat": 4,
 "nbformat_minor": 2
}
