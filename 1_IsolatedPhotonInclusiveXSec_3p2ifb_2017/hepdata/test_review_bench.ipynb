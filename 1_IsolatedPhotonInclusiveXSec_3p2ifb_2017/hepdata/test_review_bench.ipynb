{
 "cells": [
  {
   "cell_type": "markdown",
   "metadata": {},
   "source": [
    "## HEPData review: Measurement of the cross section for inclusive isolated-photon production in pp collisions at $\\sqrt{s}=13$ TeV using the ATLAS detector"
   ]
  },
  {
   "cell_type": "markdown",
   "metadata": {},
   "source": [
    "### Reviewer: S. Menary, University of Manchester (stephen.burns.menary@cern.ch)"
   ]
  },
  {
   "cell_type": "markdown",
   "metadata": {},
   "source": [
    "### HEPData record: https://www.hepdata.net/record/79798"
   ]
  },
  {
   "cell_type": "code",
   "execution_count": 1,
   "metadata": {},
   "outputs": [
    {
     "name": "stdout",
     "output_type": "stream",
     "text": [
      "python version is: 3.7.3 (default, Apr 17 2019, 15:19:19) \n",
      "[Clang 10.0.0 (clang-1000.11.45.5)]\n",
      "\n",
      "review_tools version is: 1.0.0\n",
      "\n",
      "ipywidgets version is: 7.4.2\n",
      "\n",
      "IPython version is: 7.4.0\n"
     ]
    }
   ],
   "source": [
    "#  ============================================================================\n",
    "#  Here we print package versions (for reproducibility)\n",
    "#  Import everything at the top of the notebook so the dependencies are clear\n",
    "#  ============================================================================\n",
    "\n",
    "\n",
    "from review_tools           import helpers\n",
    "from review_tools.CheckList import CheckList\n",
    "from IPython.display        import display\n",
    "\n",
    "helpers.print_versions(\"IPython\", \"ipywidgets\")"
   ]
  },
  {
   "cell_type": "markdown",
   "metadata": {},
   "source": [
    "### Step 1: standard checklist"
   ]
  },
  {
   "cell_type": "markdown",
   "metadata": {},
   "source": [
    "First let's make a checklist of things we want to validate:"
   ]
  },
  {
   "cell_type": "code",
   "execution_count": 2,
   "metadata": {},
   "outputs": [
    {
     "data": {
      "application/vnd.jupyter.widget-view+json": {
       "model_id": "c89b97b1c2954d7384f161720e4e7e58",
       "version_major": 2,
       "version_minor": 0
      },
      "text/plain": [
       "CheckList(children=(CheckListRow(children=(HBox(children=(Output(), CheckListButton(description='Failed', styl…"
      ]
     },
     "metadata": {},
     "output_type": "display_data"
    }
   ],
   "source": [
    "#  ============================================================================\n",
    "#  Create checklist instance\n",
    "#     (can be modified by clicking or using code commands)\n",
    "#  ============================================================================\n",
    "\n",
    "\n",
    "c = CheckList(\"Journal link\", \n",
    "              \"INSPIRE link\", \n",
    "              \"Informative abstract\", \n",
    "              \"Stat uncertainties\", \n",
    "              \"Syst uncertainties\", \n",
    "              \"Sufficient syst breakdown\", \n",
    "              num_tables=4)\n",
    "c[\"Journal link\"].passed()\n",
    "c[\"INSPIRE link\"].passed()\n",
    "c[\"Informative abstract\"].attention(\"arbitrary comment\")\n",
    "\n",
    "display(c)"
   ]
  },
  {
   "cell_type": "code",
   "execution_count": null,
   "metadata": {},
   "outputs": [],
   "source": []
  },
  {
   "cell_type": "code",
   "execution_count": null,
   "metadata": {},
   "outputs": [],
   "source": []
  },
  {
   "cell_type": "code",
   "execution_count": null,
   "metadata": {},
   "outputs": [],
   "source": []
  },
  {
   "cell_type": "code",
   "execution_count": null,
   "metadata": {},
   "outputs": [],
   "source": []
  },
  {
   "cell_type": "code",
   "execution_count": 3,
   "metadata": {},
   "outputs": [],
   "source": [
    "import ipywidgets as wid"
   ]
  },
  {
   "cell_type": "code",
   "execution_count": 4,
   "metadata": {},
   "outputs": [
    {
     "data": {
      "application/vnd.jupyter.widget-view+json": {
       "model_id": "a21fd000cdc04eb1a798e7931c1c8457",
       "version_major": 2,
       "version_minor": 0
      },
      "text/plain": [
       "Text(value='hello')"
      ]
     },
     "metadata": {},
     "output_type": "display_data"
    }
   ],
   "source": [
    "w = wid.Text()\n",
    "w.keys\n",
    "w.value = \"hello\"\n",
    "w"
   ]
  },
  {
   "cell_type": "code",
   "execution_count": null,
   "metadata": {},
   "outputs": [],
   "source": []
  },
  {
   "cell_type": "code",
   "execution_count": null,
   "metadata": {},
   "outputs": [],
   "source": []
  },
  {
   "cell_type": "code",
   "execution_count": null,
   "metadata": {},
   "outputs": [],
   "source": []
  },
  {
   "cell_type": "code",
   "execution_count": null,
   "metadata": {},
   "outputs": [],
   "source": []
  },
  {
   "cell_type": "code",
   "execution_count": null,
   "metadata": {},
   "outputs": [],
   "source": []
  },
  {
   "cell_type": "code",
   "execution_count": null,
   "metadata": {},
   "outputs": [],
   "source": []
  },
  {
   "cell_type": "code",
   "execution_count": null,
   "metadata": {},
   "outputs": [],
   "source": []
  },
  {
   "cell_type": "code",
   "execution_count": null,
   "metadata": {},
   "outputs": [],
   "source": []
  }
 ],
 "metadata": {
  "kernelspec": {
   "display_name": "Python 3",
   "language": "python",
   "name": "python3"
  },
  "language_info": {
   "codemirror_mode": {
    "name": "ipython",
    "version": 3
   },
   "file_extension": ".py",
   "mimetype": "text/x-python",
   "name": "python",
   "nbconvert_exporter": "python",
   "pygments_lexer": "ipython3",
   "version": "3.7.3"
  }
 },
 "nbformat": 4,
 "nbformat_minor": 2
}
